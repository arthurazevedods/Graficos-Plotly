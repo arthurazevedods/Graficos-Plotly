{
 "cells": [
  {
   "cell_type": "code",
   "execution_count": null,
   "id": "64f13416-e254-4fc3-9b7c-472ec2016280",
   "metadata": {},
   "outputs": [],
   "source": []
  }
 ],
 "metadata": {
  "kernelspec": {
   "display_name": "",
   "name": ""
  },
  "language_info": {
   "name": ""
  }
 },
 "nbformat": 4,
 "nbformat_minor": 5
}
